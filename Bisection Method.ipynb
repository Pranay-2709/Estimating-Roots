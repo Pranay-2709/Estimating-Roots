{
 "cells": [
  {
   "cell_type": "markdown",
   "id": "c89b2642",
   "metadata": {},
   "source": [
    "# ESTIMATING A POSITIVE ROOT(IF EXIST) OF A TRANSCEDENTUAL     EQUATION OR HIGH ORDER POLYNOMIAL"
   ]
  },
  {
   "cell_type": "markdown",
   "id": "7ebbada2",
   "metadata": {},
   "source": [
    "---------------------------------------                      \n",
    "                                  The Method we use here is Bisection Method\n",
    "                          \n",
    "---------------------------------------                          "
   ]
  },
  {
   "cell_type": "markdown",
   "id": "96ce5d05",
   "metadata": {},
   "source": [
    "# Theory   \n",
    "-----------------\n",
    "\n",
    "#### let F(x) Be a continuous function defined on [a,b] such that F(a) and F(b) are of opposite signs. Hence one root of F( x ) = 0 lies between a and b.For instance we asume that f(a) <0 and f(b) > 0 .Bisection method is used to find root between a and b to the desired approximation as followes \n",
    "\n",
    "    1. Let x1 = (a+b)/2 be the first approximation of the required root (x1 is the midpoint of a and b).\n",
    "\n",
    "    2.if f(x1) =0 then x1 is a root of fx. If not the root lies between x1 and a or x1 and b depending on whether f(x1)>0 or f(x1)<0.3.bisect the inteval in which the root lies and continue the process untill the root is found to the desired accuracy\n",
    "\n",
    "\n",
    "-------------------------\n",
    "Drawbacks : the convergence is very slow."
   ]
  },
  {
   "cell_type": "markdown",
   "id": "848962da",
   "metadata": {},
   "source": [
    "----------------\n",
    "#### LIBRARIES USED : "
   ]
  },
  {
   "cell_type": "code",
   "execution_count": 26,
   "id": "600ccc20",
   "metadata": {},
   "outputs": [],
   "source": [
    "import numpy as np\n",
    "import matplotlib.pyplot as plt"
   ]
  },
  {
   "cell_type": "markdown",
   "id": "8e975128",
   "metadata": {},
   "source": [
    "----------------------"
   ]
  },
  {
   "cell_type": "markdown",
   "id": "422f7edd",
   "metadata": {},
   "source": [
    "F is the polynomial we are trying to find the positive root of :"
   ]
  },
  {
   "cell_type": "code",
   "execution_count": 24,
   "id": "ccef3667",
   "metadata": {},
   "outputs": [],
   "source": [
    "def F(x):\n",
    "    return (np.exp(x)-3*x)"
   ]
  },
  {
   "cell_type": "markdown",
   "id": "ae4ba1a4",
   "metadata": {},
   "source": [
    "--------------------------------\n",
    "We plot the function to get a better understanding \n"
   ]
  },
  {
   "cell_type": "code",
   "execution_count": 27,
   "id": "d8d08ae5",
   "metadata": {
    "scrolled": true
   },
   "outputs": [
    {
     "data": {
      "text/plain": [
       "[<matplotlib.lines.Line2D at 0x83498c3a30>]"
      ]
     },
     "execution_count": 27,
     "metadata": {},
     "output_type": "execute_result"
    },
    {
     "data": {
      "image/png": "[encoded data removed]",
      "text/plain": [
       "<Figure size 432x288 with 1 Axes>"
      ]
     },
     "metadata": {
      "needs_background": "light"
     },
     "output_type": "display_data"
    }
   ],
   "source": [
    "f = []\n",
    "for x in np.arange(-150,150,1):\n",
    "    f.append(F(x))\n",
    "plt.plot(np.arange(-150,150,1),f)\n",
    "# plt.axhline(y=0, color = 'k')\n",
    "# plt.axvline(x=0, color = 'k')"
   ]
  },
  {
   "cell_type": "code",
   "execution_count": 44,
   "id": "591e46f5",
   "metadata": {},
   "outputs": [
    {
     "name": "stdout",
     "output_type": "stream",
     "text": [
      " the 1th approximation is 0.5\n",
      " the 2th approximation is 0.75\n",
      " the 3th approximation is 0.625\n",
      " the 4th approximation is 0.5625\n",
      " the 5th approximation is 0.59375\n",
      " the 6th approximation is 0.609375\n",
      " the 7th approximation is 0.6171875\n",
      " the 8th approximation is 0.62109375\n",
      " the 9th approximation is 0.619140625\n",
      " the 10th approximation is 0.6181640625\n",
      " the 11th approximation is 0.61865234375\n",
      " the 12th approximation is 0.618896484375\n",
      " the 13th approximation is 0.6190185546875\n",
      " the 14th approximation is 0.61907958984375\n",
      " the 15th approximation is 0.619049072265625\n",
      " the 16th approximation is 0.6190643310546875\n",
      " the 17th approximation is 0.6190567016601562\n",
      " the 18th approximation is 0.6190605163574219\n",
      " the 19th approximation is 0.6190624237060547\n",
      " the 20th approximation is 0.6190614700317383\n",
      " the 21th approximation is 0.6190609931945801\n",
      " the 22th approximation is 0.6190612316131592\n",
      " the 23th approximation is 0.6190613508224487\n",
      " the 24th approximation is 0.619061291217804\n",
      " the 25th approximation is 0.6190612614154816\n",
      " the 26th approximation is 0.6190612763166428\n",
      " the 27th approximation is 0.6190612837672234\n",
      " the 28th approximation is 0.6190612874925137\n",
      " the 29th approximation is 0.6190612856298685\n",
      " the 30th approximation is 0.6190612865611911\n",
      " the 31th approximation is 0.6190612870268524\n",
      " the 32th approximation is 0.6190612867940217\n",
      " the 33th approximation is 0.6190612866776064\n",
      " the 34th approximation is 0.6190612867358141\n",
      " the 35th approximation is 0.6190612867649179\n",
      " the 36th approximation is 0.619061286750366\n",
      " the 37th approximation is 0.61906128674309\n",
      " the 38th approximation is 0.619061286739452\n",
      " the 39th approximation is 0.619061286737633\n",
      " the 40th approximation is 0.6190612867367236\n",
      " the 41th approximation is 0.6190612867362688\n",
      " the 42th approximation is 0.6190612867360414\n",
      " the 43th approximation is 0.6190612867359278\n",
      " the 44th approximation is 0.6190612867359846\n",
      " the 45th approximation is 0.6190612867359562\n",
      " the 46th approximation is 0.619061286735942\n",
      " the 47th approximation is 0.6190612867359491\n",
      " the 48th approximation is 0.6190612867359455\n",
      " the 49th approximation is 0.6190612867359437\n",
      " the 50th approximation is 0.6190612867359446\n",
      " the 51th approximation is 0.6190612867359451\n"
     ]
    }
   ],
   "source": [
    "X = [0];        \n",
    "if(F(0)<0):\n",
    "    for i in range(500):\n",
    "        if(F(i)>0):\n",
    "            a = i-1\n",
    "            b = i\n",
    "            break\n",
    "    \n",
    "    for i in range(500):\n",
    "        c = (a+b)/2\n",
    "        if(c==X[i]):\n",
    "            break    \n",
    "        if(F(c)>0):\n",
    "            b = c;\n",
    "        if(F(c)<0):\n",
    "            a = c;\n",
    "        X.append(c);\n",
    "        print(f' the {i+1}th approximation is {c}')             \n",
    "            \n",
    "            \n",
    "if(F(0)>0):\n",
    "    for i in range(500):\n",
    "        if(F(i)<0):\n",
    "            a = i-1\n",
    "            b = i\n",
    "            break\n",
    "    for i in range(500):\n",
    "        c = (a+b)/2\n",
    "        if(c==X[i]):\n",
    "            break\n",
    "        if(F(c)>0):\n",
    "             a = c;\n",
    "        if(F(c)<0):\n",
    "             b = c;\n",
    "        X.append(c);\n",
    "        print(f' the {i+1}th approximation is {c}')"
   ]
  },
  {
   "cell_type": "markdown",
   "id": "4fbffa97",
   "metadata": {},
   "source": [
    "----------------------------"
   ]
  },
  {
   "cell_type": "code",
   "execution_count": 46,
   "id": "56cd59ba",
   "metadata": {},
   "outputs": [
    {
     "name": "stdout",
     "output_type": "stream",
     "text": [
      "It took 51 epochs to get our answer\n"
     ]
    }
   ],
   "source": [
    "print(f\"It took {i} epochs to get our answer\")b"
   ]
  },
  {
   "cell_type": "markdown",
   "id": "4e49f6b2",
   "metadata": {},
   "source": [
    "------------------------"
   ]
  },
  {
   "cell_type": "code",
   "execution_count": 42,
   "id": "2adb693d",
   "metadata": {
    "scrolled": true
   },
   "outputs": [
    {
     "name": "stdout",
     "output_type": "stream",
     "text": [
      "The value of F at 0.6190612867359451 is 0.0 which is 0\n"
     ]
    }
   ],
   "source": [
    "if(~(F(c)==0)):\n",
    "    print(f\"The value of F at {c} is {F(c)} which is fairly close to 0\")\n",
    "if(F(c)==0):\n",
    "    print(f\"The value of F at {c} is {F(c)} which is 0\")    "
   ]
  },
  {
   "cell_type": "markdown",
   "id": "8850956a",
   "metadata": {},
   "source": [
    "---------------------------------"
   ]
  },
  {
   "cell_type": "code",
   "execution_count": 43,
   "id": "52db90fb",
   "metadata": {
    "scrolled": false
   },
   "outputs": [
    {
     "name": "stdout",
     "output_type": "stream",
     "text": [
      "Here we found out the exact values of root i.e. 0.6190612867359451\n"
     ]
    }
   ],
   "source": [
    "if(~(F(c)==0)):\n",
    "    print(f\"The best approximation of the root is {c}\")\n",
    "if(F(c)==0):\n",
    "    print(f\"Here we found out the exact values of root i.e. {c}\")"
   ]
  }
 ],
 "metadata": {
  "kernelspec": {
   "display_name": "Python 3",
   "language": "python",
   "name": "python3"
  },
  "language_info": {
   "codemirror_mode": {
    "name": "ipython",
    "version": 3
   },
   "file_extension": ".py",
   "mimetype": "text/x-python",
   "name": "python",
   "nbconvert_exporter": "python",
   "pygments_lexer": "ipython3",
   "version": "3.8.8"
  }
 },
 "nbformat": 4,
 "nbformat_minor": 5
}
